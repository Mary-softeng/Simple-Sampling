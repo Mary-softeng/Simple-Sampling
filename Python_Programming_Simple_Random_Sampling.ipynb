{
 "cells": [
  {
   "cell_type": "markdown",
   "metadata": {
    "id": "5zn7dG78QUoE"
   },
   "source": [
    "# Python Programming:  Simple Random Sampling\n"
   ]
  },
  {
   "cell_type": "markdown",
   "metadata": {
    "id": "s0-xi8v6eATI"
   },
   "source": [
    "## Importing our Libraries"
   ]
  },
  {
   "cell_type": "code",
   "execution_count": null,
   "metadata": {
    "id": "suQkBJ4BTRWv"
   },
   "outputs": [],
   "source": [
    "# importing numpy\n",
    "import numpy as np\n",
    "\n",
    "# importing pandas\n",
    "import pandas as pd\n",
    "\n",
    "# importing random module\n",
    "# we will use random.sample() function to return a k length \n",
    "# list of unique elements chosen from our population\n",
    "import random"
   ]
  },
  {
   "cell_type": "markdown",
   "metadata": {
    "id": "c2SS_SWaQXE2"
   },
   "source": [
    "## 1.0 Selecting More than One item from a List"
   ]
  },
  {
   "cell_type": "code",
   "execution_count": null,
   "metadata": {
    "colab": {
     "base_uri": "https://localhost:8080/"
    },
    "id": "ttRODtArQMVS",
    "outputId": "d7db56e0-8b62-437c-c0bc-66efdd564e20"
   },
   "outputs": [
    {
     "name": "stdout",
     "output_type": "stream",
     "text": [
      "Choosing 3 random items from a list using sample function [120, 100, 80]\n",
      "Choosing 3 random items from a list using sample function [40, 20, 20]\n"
     ]
    }
   ],
   "source": [
    "# Example 1\n",
    "# ---\n",
    "# Selecting more than one item from a list \n",
    "# ---\n",
    "#\n",
    "\n",
    "list = [20, 40, 80, 100, 120]\n",
    "print (\"Choosing 3 random items from a list using sample function\", random.sample(list, k=3))\n",
    "\n",
    "list = [20, 40, 20, 20, 20]\n",
    "print (\"Choosing 3 random items from a list using sample function\",random.sample(list, k=3))\n",
    "\n",
    "# As you can see we pass k=3 to choose 3 random elements from a list. \n",
    "# In return, we got a list of 3 random items."
   ]
  },
  {
   "cell_type": "markdown",
   "metadata": {
    "id": "cSWmgSy3SV5D"
   },
   "source": [
    "### <font color=\"green\"> 1.0 Challenges</font>"
   ]
  },
  {
   "cell_type": "code",
   "execution_count": null,
   "metadata": {
    "colab": {
     "base_uri": "https://localhost:8080/"
    },
    "id": "Ga8D2XvfRFaP",
    "outputId": "2a7c8642-d263-4cc5-e98a-251359eb40f0"
   },
   "outputs": [
    {
     "name": "stdout",
     "output_type": "stream",
     "text": [
      "counties include: ['Nyandarua', 'Kiambu']\n"
     ]
    }
   ],
   "source": [
    "# Challenge 1\n",
    "# ---\n",
    "# Question: Create a list containing 10 counties in Kenya \n",
    "# then select 2 random counties from the list.\n",
    "# ---\n",
    "# \n",
    "counties = ['Nyandarua','Kiambu','Mombasa','Nyeri']\n",
    "print('counties include:', random.sample(counties, k=2))"
   ]
  },
  {
   "cell_type": "markdown",
   "metadata": {
    "id": "RcV5DlN5R2uh"
   },
   "source": [
    "## 2.0  Selecting the Random Sample from Dictionary"
   ]
  },
  {
   "cell_type": "code",
   "execution_count": null,
   "metadata": {
    "colab": {
     "base_uri": "https://localhost:8080/"
    },
    "id": "yerkTFAPSIlT",
    "outputId": "df2301d8-21e1-46a0-ce18-b59a4ae30e53"
   },
   "outputs": [
    {
     "name": "stdout",
     "output_type": "stream",
     "text": [
      "Choosing 2 random items from a dictionary using sample method  [('Kelly', 55), ('jhon', 70)]\n"
     ]
    }
   ],
   "source": [
    "# Example 1\n",
    "# ---\n",
    "# We can select a random key-value pair from the dictionary as shown \n",
    "# ---\n",
    "#\n",
    "marks_dict = {\n",
    "  \"Kelly\": 55,\n",
    "  \"jhon\": 70,\n",
    "  \"Donald\": 60,\n",
    "  \"Lennin\" :50\n",
    "}\n",
    "\n",
    "print (\"Choosing 2 random items from a dictionary using sample method \", random.sample(marks_dict.items(), k=2))"
   ]
  },
  {
   "cell_type": "markdown",
   "metadata": {
    "id": "PA5HaWPvTALQ"
   },
   "source": [
    "### <font color=\"green\">2.0 Challenges</font>"
   ]
  },
  {
   "cell_type": "code",
   "execution_count": null,
   "metadata": {
    "colab": {
     "base_uri": "https://localhost:8080/"
    },
    "id": "GZimMc1TSSGU",
    "outputId": "0a6b308c-252f-4e13-d01a-4c9f08c3eabc"
   },
   "outputs": [
    {
     "name": "stdout",
     "output_type": "stream",
     "text": [
      "bronze_package:  [('curry vegetable', 'cabbages'), ('desert', 'melon')]\n",
      "silver_package:  [('desert', 'melon and bananas'), ('stew', 'beef')]\n",
      "gold_package:  [('stew', 'beef'), ('desert', 'tart')]\n"
     ]
    }
   ],
   "source": [
    "# Challenge 1\n",
    "# ---\n",
    "# A caterer offers three different food packages; \n",
    "# bronze package: starch:rice stew:chicken curry vegetable:cabbages desert:melon\n",
    "# silver package: starch:rice and chappati  stew:beef curry vegetable:spinach desert:melon and bananas\n",
    "# gold package: starch:rice, chappati and mukimo stew: beef curry vegetable:spinach and managu desert: tart\n",
    "# Create a dictionary that stores the above information and select a sample of size 2 \n",
    "# ---\n",
    "#\n",
    "bronze_package = {\n",
    "    'starch':'rice',\n",
    "    'stew':'chicken',\n",
    "    'curry vegetable':'cabbages',\n",
    "    'desert':'melon'\n",
    "}\n",
    "silver_package = {\n",
    "    'starch':'rice and chappati', \n",
    "    'stew':'beef',\n",
    "    'curry vegetable':'spinach',\n",
    "    'desert':'melon and bananas'\n",
    "}\n",
    "gold_package = {\n",
    "    'starch':'rice, chappati and mukimo',\n",
    "    'stew':'beef',\n",
    "    'curry vegetable':'spinach and managu', \n",
    "    'desert': 'tart'\n",
    "}\n",
    "print (\"bronze_package: \", random.sample(bronze_package.items(), k=2))\n",
    "print (\"silver_package: \", random.sample(silver_package.items(), k=2))\n",
    "print (\"gold_package: \", random.sample(gold_package.items(), k=2))"
   ]
  },
  {
   "cell_type": "markdown",
   "metadata": {
    "id": "BeUYGvGhTsm1"
   },
   "source": [
    "## 3.0 Selecting a Random Sample with Replacement to including repetition\n"
   ]
  },
  {
   "cell_type": "code",
   "execution_count": null,
   "metadata": {
    "colab": {
     "base_uri": "https://localhost:8080/"
    },
    "id": "9lDLmuqyT0DH",
    "outputId": "d7677ad0-50b7-463e-e447-fa13c607162b"
   },
   "outputs": [
    {
     "name": "stdout",
     "output_type": "stream",
     "text": [
      "random sample with replacement to including repetition  ['Roger', 'Sarena', 'Sarena']\n"
     ]
    }
   ],
   "source": [
    "# Example 1\n",
    "# ---\n",
    "# We can select a random sample with replacement to include repetition as shown below\n",
    "# ---\n",
    "# \n",
    "names = [\"Roger\", \"Nadal\", \"Novac\", \"Andre\", \"Sarena\", \"Mariya\", \"Martina\"]\n",
    "\n",
    "print(\"random sample with replacement to including repetition \", random.choices(names, k=3))"
   ]
  },
  {
   "cell_type": "markdown",
   "metadata": {
    "id": "bNWFLKL-gRTO"
   },
   "source": [
    "### <font color=\"green\">3.0 Challenges</font>"
   ]
  },
  {
   "cell_type": "code",
   "execution_count": null,
   "metadata": {
    "colab": {
     "base_uri": "https://localhost:8080/"
    },
    "id": "OYjj3osOUCC3",
    "outputId": "58a5cda6-5d45-471d-a1e2-8d10b2897ed2"
   },
   "outputs": [
    {
     "name": "stdout",
     "output_type": "stream",
     "text": [
      "Months:  ['April', 'August', 'August']\n"
     ]
    }
   ],
   "source": [
    "# Challenge 1\n",
    "# ---\n",
    "# Question: Select a random sample of 3 with replacement to include replacement from the \n",
    "# following list of months\n",
    "# ---\n",
    "#\n",
    "\n",
    "months = ['January', 'February', 'March', 'April', 'May', 'June', 'July',\n",
    "          'August', 'September', 'October', 'November', 'December']\n",
    "\n",
    "print (\"Months: \", random.choices(months, k=3))"
   ]
  },
  {
   "cell_type": "markdown",
   "metadata": {
    "id": "kV0dRO0nUJzL"
   },
   "source": [
    "## 4.0 Selecting a Random Sample from a Range of Integers"
   ]
  },
  {
   "cell_type": "code",
   "execution_count": null,
   "metadata": {
    "colab": {
     "base_uri": "https://localhost:8080/"
    },
    "id": "HBqhmibxUIgt",
    "outputId": "9e5187cb-0e40-4da7-da46-0b8e543fa5c0"
   },
   "outputs": [
    {
     "name": "stdout",
     "output_type": "stream",
     "text": [
      "Choosing 4 random items from a set  [55, 40, 50, 65]\n"
     ]
    }
   ],
   "source": [
    "# Example 1\n",
    "# ---\n",
    "# We can select a random sample from a range of integers as shown below\n",
    "# ---\n",
    "# \n",
    "\n",
    "weight_set = {40, 50, 55, 65, 75, 80}\n",
    "\n",
    "print (\"Choosing 4 random items from a set \", random.sample(weight_set, k=4))"
   ]
  },
  {
   "cell_type": "markdown",
   "metadata": {
    "id": "0gGIBBpggZT2"
   },
   "source": [
    "### <font color=\"green\">4.1 Challenges</font>"
   ]
  },
  {
   "cell_type": "code",
   "execution_count": null,
   "metadata": {
    "colab": {
     "base_uri": "https://localhost:8080/"
    },
    "id": "IIAkil2VUjuI",
    "outputId": "893d6310-ad91-4fce-99da-1419b7dfd091"
   },
   "outputs": [
    {
     "name": "stdout",
     "output_type": "stream",
     "text": [
      "weight: [7, 9, 10]\n"
     ]
    }
   ],
   "source": [
    "# Challenge 1\n",
    "# ---\n",
    "# Question: Select a random sample from a range of integers as shown below\n",
    "# --- \n",
    "# \n",
    "weight_set = {4, 5, 6, 7, 8, 9, 10}\n",
    "\n",
    "print(\"weight:\", random.sample(weight_set, k=3))"
   ]
  },
  {
   "cell_type": "markdown",
   "metadata": {
    "id": "DwOtPvA3UnHf"
   },
   "source": [
    "## 5.0 Selecting a Sample Array from a Large multidimensional Array\n",
    "\n"
   ]
  },
  {
   "cell_type": "code",
   "execution_count": null,
   "metadata": {
    "colab": {
     "base_uri": "https://localhost:8080/"
    },
    "id": "RxtsWbUtU2cW",
    "outputId": "44c25964-825d-4b82-b84a-ff43113f8a59"
   },
   "outputs": [
    {
     "name": "stdout",
     "output_type": "stream",
     "text": [
      "Printing 2D Array\n",
      "[[ 2  4  6]\n",
      " [ 5 10 15]\n",
      " [ 6 12 18]\n",
      " [ 7 14 21]\n",
      " [ 8 16 24]]\n",
      "Selecting multiple random rows from the 2D array\n",
      "[ 8 16 24]\n",
      "[2 4 6]\n"
     ]
    }
   ],
   "source": [
    "# Example 1\n",
    "# ---\n",
    "# We can select a sample array from a large multidimensional array as shown\n",
    "# ---\n",
    "# \n",
    "\n",
    "array = np.array([[2 ,4, 6], [5, 10, 15], [6, 12, 18], [7, 14, 21], [8, 16, 24]]) \n",
    "print(\"Printing 2D Array\")\n",
    "print(array)\n",
    "\n",
    "# selecting multiple random rows from the 2D as shown\n",
    "print(\"Selecting multiple random rows from the 2D array\")\n",
    "randomRows = np.random.randint(5, size=2)\n",
    "for i in randomRows:\n",
    "  print(array[i,:])"
   ]
  },
  {
   "cell_type": "markdown",
   "metadata": {
    "id": "LZgY26bsgfJv"
   },
   "source": [
    "### <font color=\"green\">5.0 Challenges</font>"
   ]
  },
  {
   "cell_type": "code",
   "execution_count": null,
   "metadata": {
    "colab": {
     "base_uri": "https://localhost:8080/"
    },
    "id": "mJt1ePbSVR9j",
    "outputId": "20f12fe2-4aa5-4253-de1d-c8135b87613d"
   },
   "outputs": [
    {
     "name": "stdout",
     "output_type": "stream",
     "text": [
      "[ 3  6  9 12 15]\n",
      "[1 2 4 5 6]\n"
     ]
    }
   ],
   "source": [
    "# Challenge 1\n",
    "# ---\n",
    "# Question: Select two arrays from the given multidimensional array\n",
    "# ---\n",
    "# \n",
    "\n",
    "a = np.array([[2, 4, 6, 8, 10], [3, 6, 9, 12, 15], [4, 8, 12, 16, 20], [1 ,2 , 4, 5, 6], [5, 10, 15, 20, 25], [6, 12, 18, 24, 30], [7, 14, 21, 28, 35]])  \n",
    "randomRow = np.random.randint(7, size=2)\n",
    "for i in randomRow:\n",
    "  print(a[i,:])"
   ]
  },
  {
   "cell_type": "markdown",
   "metadata": {
    "id": "-22NquhoWF7l"
   },
   "source": [
    "## 6.0 Selecting Random Samples from a Dataset"
   ]
  },
  {
   "cell_type": "code",
   "execution_count": null,
   "metadata": {
    "colab": {
     "base_uri": "https://localhost:8080/"
    },
    "id": "gimbl5z3Waat",
    "outputId": "a9325303-239c-48c3-f511-b9126ed3a1fe"
   },
   "outputs": [
    {
     "name": "stdout",
     "output_type": "stream",
     "text": [
      "(110527, 14)\n",
      "      PatientId  AppointmentID Gender          ScheduledDay  \\\n",
      "0  2.987250e+13        5642903      F  2016-04-29T18:38:08Z   \n",
      "1  5.589978e+14        5642503      M  2016-04-29T16:08:27Z   \n",
      "2  4.262962e+12        5642549      F  2016-04-29T16:19:04Z   \n",
      "3  8.679512e+11        5642828      F  2016-04-29T17:29:31Z   \n",
      "4  8.841186e+12        5642494      F  2016-04-29T16:07:23Z   \n",
      "\n",
      "         AppointmentDay  Age      Neighbourhood  Scholarship  Hipertension  \\\n",
      "0  2016-04-29T00:00:00Z   62    JARDIM DA PENHA            0             1   \n",
      "1  2016-04-29T00:00:00Z   56    JARDIM DA PENHA            0             0   \n",
      "2  2016-04-29T00:00:00Z   62      MATA DA PRAIA            0             0   \n",
      "3  2016-04-29T00:00:00Z    8  PONTAL DE CAMBURI            0             0   \n",
      "4  2016-04-29T00:00:00Z   56    JARDIM DA PENHA            0             1   \n",
      "\n",
      "   Diabetes  Alcoholism  Handcap  SMS_received No-show  \n",
      "0         0           0        0             0      No  \n",
      "1         0           0        0             0      No  \n",
      "2         0           0        0             0      No  \n",
      "3         0           0        0             0      No  \n",
      "4         1           0        0             0      No  \n",
      "          PatientId  AppointmentID Gender          ScheduledDay  \\\n",
      "93491  8.771967e+12        5783430      F  2016-06-07T13:54:29Z   \n",
      "29407  8.833433e+14        5608709      F  2016-04-20T14:16:29Z   \n",
      "32638  7.311763e+12        5583111      F  2016-04-14T10:28:13Z   \n",
      "69191  8.118872e+13        5663906      F  2016-05-05T10:44:15Z   \n",
      "54690  3.441984e+11        5625272      F  2016-04-27T07:05:50Z   \n",
      "55077  2.553716e+13        5632424      F  2016-04-28T08:00:37Z   \n",
      "75993  3.793919e+14        5649097      M  2016-05-02T17:45:40Z   \n",
      "55697  2.765328e+13        5733171      F  2016-05-24T13:29:25Z   \n",
      "38635  8.296777e+14        5666640      F  2016-05-05T19:21:33Z   \n",
      "80491  7.244854e+13        5682247      F  2016-05-10T16:05:48Z   \n",
      "\n",
      "             AppointmentDay  Age   Neighbourhood  Scholarship  Hipertension  \\\n",
      "93491  2016-06-07T00:00:00Z   35        REDENÇÃO            0             0   \n",
      "29407  2016-05-10T00:00:00Z   21  FORTE SÃO JOÃO            0             0   \n",
      "32638  2016-05-05T00:00:00Z   18          JABOUR            0             0   \n",
      "69191  2016-05-05T00:00:00Z   17       DO CABRAL            0             0   \n",
      "54690  2016-05-05T00:00:00Z   19       SÃO PEDRO            0             0   \n",
      "55077  2016-05-16T00:00:00Z   60          BONFIM            0             1   \n",
      "75993  2016-05-03T00:00:00Z   65       SÃO PEDRO            0             1   \n",
      "55697  2016-05-30T00:00:00Z   31     SANTOS REIS            0             0   \n",
      "38635  2016-05-11T00:00:00Z    0     MARIA ORTIZ            0             0   \n",
      "80491  2016-05-13T00:00:00Z   61          JABOUR            0             0   \n",
      "\n",
      "       Diabetes  Alcoholism  Handcap  SMS_received No-show  \n",
      "93491         0           0        0             0      No  \n",
      "29407         0           0        0             1      No  \n",
      "32638         0           0        0             1     Yes  \n",
      "69191         0           0        0             0      No  \n",
      "54690         0           0        0             1     Yes  \n",
      "55077         0           0        0             0      No  \n",
      "75993         0           0        0             0      No  \n",
      "55697         0           0        0             1     Yes  \n",
      "38635         0           0        0             0      No  \n",
      "80491         0           0        0             0      No  \n"
     ]
    }
   ],
   "source": [
    "# Example 1\n",
    "# ---\n",
    "# Selecting a random sample from the following medical appointments dataset\n",
    "# ---\n",
    "# Dataset url = http://bit.ly/MedicalAppointmentsDataset\n",
    "# ---\n",
    "# \n",
    "\n",
    "# Loading the dataset\n",
    "medical_df = pd.read_csv(\"http://bit.ly/MedicalAppointmentsDataset\")\n",
    "\n",
    "# Determining the size\n",
    "print(medical_df.shape)\n",
    "\n",
    "\n",
    "# Previewing the dataset\n",
    "print(medical_df.head())\n",
    "\n",
    "# Selecting the sample \n",
    "medical_sample = medical_df.sample(n = 10, replace=\"False\")\n",
    "print(medical_sample)"
   ]
  },
  {
   "cell_type": "markdown",
   "metadata": {
    "id": "8QVs13BcYJpm"
   },
   "source": [
    "### <font color=\"green\">6.0 Challenges </font>"
   ]
  },
  {
   "cell_type": "code",
   "execution_count": null,
   "metadata": {
    "colab": {
     "base_uri": "https://localhost:8080/",
     "height": 686
    },
    "id": "VZEi6JOnXJNt",
    "outputId": "213b9829-1cec-4364-d7ea-d53eefc7f09e"
   },
   "outputs": [
    {
     "data": {
      "text/html": [
       "\n",
       "  <div id=\"df-533590fc-fdef-4406-95fe-511c58bceee3\">\n",
       "    <div class=\"colab-df-container\">\n",
       "      <div>\n",
       "<style scoped>\n",
       "    .dataframe tbody tr th:only-of-type {\n",
       "        vertical-align: middle;\n",
       "    }\n",
       "\n",
       "    .dataframe tbody tr th {\n",
       "        vertical-align: top;\n",
       "    }\n",
       "\n",
       "    .dataframe thead th {\n",
       "        text-align: right;\n",
       "    }\n",
       "</style>\n",
       "<table border=\"1\" class=\"dataframe\">\n",
       "  <thead>\n",
       "    <tr style=\"text-align: right;\">\n",
       "      <th></th>\n",
       "      <th>investigation</th>\n",
       "      <th>investigation-start</th>\n",
       "      <th>investigation-end</th>\n",
       "      <th>investigation-days</th>\n",
       "      <th>name</th>\n",
       "      <th>indictment-days</th>\n",
       "      <th>type</th>\n",
       "      <th>cp-date</th>\n",
       "      <th>cp-days</th>\n",
       "      <th>overturned</th>\n",
       "      <th>pardoned</th>\n",
       "      <th>american</th>\n",
       "      <th>president</th>\n",
       "    </tr>\n",
       "  </thead>\n",
       "  <tbody>\n",
       "    <tr>\n",
       "      <th>77</th>\n",
       "      <td>deaver</td>\n",
       "      <td>1986-05-29</td>\n",
       "      <td>1989-08-16</td>\n",
       "      <td>1175</td>\n",
       "      <td>Michael Deaver</td>\n",
       "      <td>293.0</td>\n",
       "      <td>conviction</td>\n",
       "      <td>1987-12-16</td>\n",
       "      <td>566.0</td>\n",
       "      <td>False</td>\n",
       "      <td>False</td>\n",
       "      <td>True</td>\n",
       "      <td>Ronald Reagan</td>\n",
       "    </tr>\n",
       "    <tr>\n",
       "      <th>9</th>\n",
       "      <td>watergate</td>\n",
       "      <td>1973-05-19</td>\n",
       "      <td>1977-06-19</td>\n",
       "      <td>1492</td>\n",
       "      <td>E. Howard Hunt</td>\n",
       "      <td>-246.0</td>\n",
       "      <td>guilty-plea</td>\n",
       "      <td>1973-01-11</td>\n",
       "      <td>-128.0</td>\n",
       "      <td>False</td>\n",
       "      <td>False</td>\n",
       "      <td>True</td>\n",
       "      <td>Richard Nixon</td>\n",
       "    </tr>\n",
       "    <tr>\n",
       "      <th>143</th>\n",
       "      <td>espy</td>\n",
       "      <td>1994-09-09</td>\n",
       "      <td>2001-01-30</td>\n",
       "      <td>2335</td>\n",
       "      <td>Richard Douglas</td>\n",
       "      <td>769.0</td>\n",
       "      <td>guilty-plea</td>\n",
       "      <td>1998-03-16</td>\n",
       "      <td>1284.0</td>\n",
       "      <td>False</td>\n",
       "      <td>True</td>\n",
       "      <td>True</td>\n",
       "      <td>Bill Clinton</td>\n",
       "    </tr>\n",
       "    <tr>\n",
       "      <th>89</th>\n",
       "      <td>iran-contra</td>\n",
       "      <td>1986-12-19</td>\n",
       "      <td>1993-08-03</td>\n",
       "      <td>2419</td>\n",
       "      <td>Clair E. George</td>\n",
       "      <td>1722.0</td>\n",
       "      <td>conviction</td>\n",
       "      <td>1992-12-10</td>\n",
       "      <td>2183.0</td>\n",
       "      <td>False</td>\n",
       "      <td>True</td>\n",
       "      <td>True</td>\n",
       "      <td>Ronald Reagan</td>\n",
       "    </tr>\n",
       "    <tr>\n",
       "      <th>101</th>\n",
       "      <td>pierce</td>\n",
       "      <td>1990-03-01</td>\n",
       "      <td>1998-10-27</td>\n",
       "      <td>3162</td>\n",
       "      <td>Thomas Demery</td>\n",
       "      <td>831.0</td>\n",
       "      <td>guilty-plea</td>\n",
       "      <td>1993-06-17</td>\n",
       "      <td>1204.0</td>\n",
       "      <td>False</td>\n",
       "      <td>False</td>\n",
       "      <td>True</td>\n",
       "      <td>George H.W. Bush</td>\n",
       "    </tr>\n",
       "    <tr>\n",
       "      <th>29</th>\n",
       "      <td>watergate</td>\n",
       "      <td>1973-05-19</td>\n",
       "      <td>1977-06-19</td>\n",
       "      <td>1492</td>\n",
       "      <td>William W. Keeler</td>\n",
       "      <td>199.0</td>\n",
       "      <td>guilty-plea</td>\n",
       "      <td>1973-12-04</td>\n",
       "      <td>199.0</td>\n",
       "      <td>False</td>\n",
       "      <td>False</td>\n",
       "      <td>True</td>\n",
       "      <td>Richard Nixon</td>\n",
       "    </tr>\n",
       "    <tr>\n",
       "      <th>100</th>\n",
       "      <td>pierce</td>\n",
       "      <td>1990-03-01</td>\n",
       "      <td>1998-10-27</td>\n",
       "      <td>3162</td>\n",
       "      <td>Deborah Gore Dean</td>\n",
       "      <td>789.0</td>\n",
       "      <td>conviction</td>\n",
       "      <td>1993-10-26</td>\n",
       "      <td>1335.0</td>\n",
       "      <td>False</td>\n",
       "      <td>False</td>\n",
       "      <td>True</td>\n",
       "      <td>George H.W. Bush</td>\n",
       "    </tr>\n",
       "    <tr>\n",
       "      <th>133</th>\n",
       "      <td>whitewater</td>\n",
       "      <td>1994-08-05</td>\n",
       "      <td>2002-03-06</td>\n",
       "      <td>2770</td>\n",
       "      <td>Charles C. Owen</td>\n",
       "      <td>1364.0</td>\n",
       "      <td>indictment</td>\n",
       "      <td>NaN</td>\n",
       "      <td>NaN</td>\n",
       "      <td>False</td>\n",
       "      <td>False</td>\n",
       "      <td>True</td>\n",
       "      <td>Bill Clinton</td>\n",
       "    </tr>\n",
       "    <tr>\n",
       "      <th>49</th>\n",
       "      <td>watergate</td>\n",
       "      <td>1973-05-19</td>\n",
       "      <td>1977-06-19</td>\n",
       "      <td>1492</td>\n",
       "      <td>David L. Parr</td>\n",
       "      <td>430.0</td>\n",
       "      <td>guilty-plea</td>\n",
       "      <td>1974-07-23</td>\n",
       "      <td>430.0</td>\n",
       "      <td>False</td>\n",
       "      <td>True</td>\n",
       "      <td>True</td>\n",
       "      <td>Richard Nixon</td>\n",
       "    </tr>\n",
       "    <tr>\n",
       "      <th>77</th>\n",
       "      <td>deaver</td>\n",
       "      <td>1986-05-29</td>\n",
       "      <td>1989-08-16</td>\n",
       "      <td>1175</td>\n",
       "      <td>Michael Deaver</td>\n",
       "      <td>293.0</td>\n",
       "      <td>conviction</td>\n",
       "      <td>1987-12-16</td>\n",
       "      <td>566.0</td>\n",
       "      <td>False</td>\n",
       "      <td>False</td>\n",
       "      <td>True</td>\n",
       "      <td>Ronald Reagan</td>\n",
       "    </tr>\n",
       "  </tbody>\n",
       "</table>\n",
       "</div>\n",
       "      <button class=\"colab-df-convert\" onclick=\"convertToInteractive('df-533590fc-fdef-4406-95fe-511c58bceee3')\"\n",
       "              title=\"Convert this dataframe to an interactive table.\"\n",
       "              style=\"display:none;\">\n",
       "        \n",
       "  <svg xmlns=\"http://www.w3.org/2000/svg\" height=\"24px\"viewBox=\"0 0 24 24\"\n",
       "       width=\"24px\">\n",
       "    <path d=\"M0 0h24v24H0V0z\" fill=\"none\"/>\n",
       "    <path d=\"M18.56 5.44l.94 2.06.94-2.06 2.06-.94-2.06-.94-.94-2.06-.94 2.06-2.06.94zm-11 1L8.5 8.5l.94-2.06 2.06-.94-2.06-.94L8.5 2.5l-.94 2.06-2.06.94zm10 10l.94 2.06.94-2.06 2.06-.94-2.06-.94-.94-2.06-.94 2.06-2.06.94z\"/><path d=\"M17.41 7.96l-1.37-1.37c-.4-.4-.92-.59-1.43-.59-.52 0-1.04.2-1.43.59L10.3 9.45l-7.72 7.72c-.78.78-.78 2.05 0 2.83L4 21.41c.39.39.9.59 1.41.59.51 0 1.02-.2 1.41-.59l7.78-7.78 2.81-2.81c.8-.78.8-2.07 0-2.86zM5.41 20L4 18.59l7.72-7.72 1.47 1.35L5.41 20z\"/>\n",
       "  </svg>\n",
       "      </button>\n",
       "      \n",
       "  <style>\n",
       "    .colab-df-container {\n",
       "      display:flex;\n",
       "      flex-wrap:wrap;\n",
       "      gap: 12px;\n",
       "    }\n",
       "\n",
       "    .colab-df-convert {\n",
       "      background-color: #E8F0FE;\n",
       "      border: none;\n",
       "      border-radius: 50%;\n",
       "      cursor: pointer;\n",
       "      display: none;\n",
       "      fill: #1967D2;\n",
       "      height: 32px;\n",
       "      padding: 0 0 0 0;\n",
       "      width: 32px;\n",
       "    }\n",
       "\n",
       "    .colab-df-convert:hover {\n",
       "      background-color: #E2EBFA;\n",
       "      box-shadow: 0px 1px 2px rgba(60, 64, 67, 0.3), 0px 1px 3px 1px rgba(60, 64, 67, 0.15);\n",
       "      fill: #174EA6;\n",
       "    }\n",
       "\n",
       "    [theme=dark] .colab-df-convert {\n",
       "      background-color: #3B4455;\n",
       "      fill: #D2E3FC;\n",
       "    }\n",
       "\n",
       "    [theme=dark] .colab-df-convert:hover {\n",
       "      background-color: #434B5C;\n",
       "      box-shadow: 0px 1px 3px 1px rgba(0, 0, 0, 0.15);\n",
       "      filter: drop-shadow(0px 1px 2px rgba(0, 0, 0, 0.3));\n",
       "      fill: #FFFFFF;\n",
       "    }\n",
       "  </style>\n",
       "\n",
       "      <script>\n",
       "        const buttonEl =\n",
       "          document.querySelector('#df-533590fc-fdef-4406-95fe-511c58bceee3 button.colab-df-convert');\n",
       "        buttonEl.style.display =\n",
       "          google.colab.kernel.accessAllowed ? 'block' : 'none';\n",
       "\n",
       "        async function convertToInteractive(key) {\n",
       "          const element = document.querySelector('#df-533590fc-fdef-4406-95fe-511c58bceee3');\n",
       "          const dataTable =\n",
       "            await google.colab.kernel.invokeFunction('convertToInteractive',\n",
       "                                                     [key], {});\n",
       "          if (!dataTable) return;\n",
       "\n",
       "          const docLinkHtml = 'Like what you see? Visit the ' +\n",
       "            '<a target=\"_blank\" href=https://colab.research.google.com/notebooks/data_table.ipynb>data table notebook</a>'\n",
       "            + ' to learn more about interactive tables.';\n",
       "          element.innerHTML = '';\n",
       "          dataTable['output_type'] = 'display_data';\n",
       "          await google.colab.output.renderOutput(dataTable, element);\n",
       "          const docLink = document.createElement('div');\n",
       "          docLink.innerHTML = docLinkHtml;\n",
       "          element.appendChild(docLink);\n",
       "        }\n",
       "      </script>\n",
       "    </div>\n",
       "  </div>\n",
       "  "
      ],
      "text/plain": [
       "    investigation investigation-start investigation-end  investigation-days  \\\n",
       "77         deaver          1986-05-29        1989-08-16                1175   \n",
       "9       watergate          1973-05-19        1977-06-19                1492   \n",
       "143          espy          1994-09-09        2001-01-30                2335   \n",
       "89    iran-contra          1986-12-19        1993-08-03                2419   \n",
       "101        pierce          1990-03-01        1998-10-27                3162   \n",
       "29      watergate          1973-05-19        1977-06-19                1492   \n",
       "100        pierce          1990-03-01        1998-10-27                3162   \n",
       "133    whitewater          1994-08-05        2002-03-06                2770   \n",
       "49      watergate          1973-05-19        1977-06-19                1492   \n",
       "77         deaver          1986-05-29        1989-08-16                1175   \n",
       "\n",
       "                  name  indictment-days          type     cp-date  cp-days  \\\n",
       "77      Michael Deaver             293.0   conviction  1987-12-16    566.0   \n",
       "9       E. Howard Hunt            -246.0  guilty-plea  1973-01-11   -128.0   \n",
       "143    Richard Douglas             769.0  guilty-plea  1998-03-16   1284.0   \n",
       "89     Clair E. George            1722.0   conviction  1992-12-10   2183.0   \n",
       "101      Thomas Demery             831.0  guilty-plea  1993-06-17   1204.0   \n",
       "29   William W. Keeler             199.0  guilty-plea  1973-12-04    199.0   \n",
       "100  Deborah Gore Dean             789.0   conviction  1993-10-26   1335.0   \n",
       "133    Charles C. Owen            1364.0   indictment         NaN      NaN   \n",
       "49       David L. Parr             430.0  guilty-plea  1974-07-23    430.0   \n",
       "77      Michael Deaver             293.0   conviction  1987-12-16    566.0   \n",
       "\n",
       "     overturned  pardoned  american         president  \n",
       "77        False     False      True     Ronald Reagan  \n",
       "9         False     False      True     Richard Nixon  \n",
       "143       False      True      True      Bill Clinton  \n",
       "89        False      True      True     Ronald Reagan  \n",
       "101       False     False      True  George H.W. Bush  \n",
       "29        False     False      True     Richard Nixon  \n",
       "100       False     False      True  George H.W. Bush  \n",
       "133       False     False      True      Bill Clinton  \n",
       "49        False      True      True     Richard Nixon  \n",
       "77        False     False      True     Ronald Reagan  "
      ]
     },
     "execution_count": 35,
     "metadata": {},
     "output_type": "execute_result"
    }
   ],
   "source": [
    "# Challenge 1\n",
    "# ---\n",
    "# Select a random sample of 10 from the given dataset below \n",
    "# ---\n",
    "# Dataset url = http://bit.ly/DSRussianInvestigation\n",
    "# ---\n",
    "#\n",
    "Russian_investigation = pd.read_csv(\"http://bit.ly/DSRussianInvestigation\")\n",
    "#Determining the size\n",
    "Russian_investigation.shape\n",
    "#selectong sample\n",
    "Russia = Russian_investigation.sample(n = 10, replace=\"False\")\n",
    "Russia"
   ]
  },
  {
   "cell_type": "code",
   "execution_count": null,
   "metadata": {
    "colab": {
     "base_uri": "https://localhost:8080/",
     "height": 374
    },
    "id": "WZgm88i7YTRf",
    "outputId": "dd3a78c0-ac9e-4af4-a30e-7a0c28afd479"
   },
   "outputs": [
    {
     "data": {
      "text/html": [
       "\n",
       "  <div id=\"df-1a86de34-dcba-46b0-93b7-2f43555c3680\">\n",
       "    <div class=\"colab-df-container\">\n",
       "      <div>\n",
       "<style scoped>\n",
       "    .dataframe tbody tr th:only-of-type {\n",
       "        vertical-align: middle;\n",
       "    }\n",
       "\n",
       "    .dataframe tbody tr th {\n",
       "        vertical-align: top;\n",
       "    }\n",
       "\n",
       "    .dataframe thead th {\n",
       "        text-align: right;\n",
       "    }\n",
       "</style>\n",
       "<table border=\"1\" class=\"dataframe\">\n",
       "  <thead>\n",
       "    <tr style=\"text-align: right;\">\n",
       "      <th></th>\n",
       "      <th>PatientId</th>\n",
       "      <th>AppointmentID</th>\n",
       "      <th>Gender</th>\n",
       "      <th>ScheduledDay</th>\n",
       "      <th>AppointmentDay</th>\n",
       "      <th>Age</th>\n",
       "      <th>Neighbourhood</th>\n",
       "      <th>Scholarship</th>\n",
       "      <th>Hipertension</th>\n",
       "      <th>Diabetes</th>\n",
       "      <th>Alcoholism</th>\n",
       "      <th>Handcap</th>\n",
       "      <th>SMS_received</th>\n",
       "      <th>No-show</th>\n",
       "    </tr>\n",
       "  </thead>\n",
       "  <tbody>\n",
       "    <tr>\n",
       "      <th>0</th>\n",
       "      <td>2.987250e+13</td>\n",
       "      <td>5642903</td>\n",
       "      <td>F</td>\n",
       "      <td>2016-04-29T18:38:08Z</td>\n",
       "      <td>2016-04-29T00:00:00Z</td>\n",
       "      <td>62</td>\n",
       "      <td>JARDIM DA PENHA</td>\n",
       "      <td>0</td>\n",
       "      <td>1</td>\n",
       "      <td>0</td>\n",
       "      <td>0</td>\n",
       "      <td>0</td>\n",
       "      <td>0</td>\n",
       "      <td>No</td>\n",
       "    </tr>\n",
       "    <tr>\n",
       "      <th>1</th>\n",
       "      <td>5.589978e+14</td>\n",
       "      <td>5642503</td>\n",
       "      <td>M</td>\n",
       "      <td>2016-04-29T16:08:27Z</td>\n",
       "      <td>2016-04-29T00:00:00Z</td>\n",
       "      <td>56</td>\n",
       "      <td>JARDIM DA PENHA</td>\n",
       "      <td>0</td>\n",
       "      <td>0</td>\n",
       "      <td>0</td>\n",
       "      <td>0</td>\n",
       "      <td>0</td>\n",
       "      <td>0</td>\n",
       "      <td>No</td>\n",
       "    </tr>\n",
       "    <tr>\n",
       "      <th>2</th>\n",
       "      <td>4.262962e+12</td>\n",
       "      <td>5642549</td>\n",
       "      <td>F</td>\n",
       "      <td>2016-04-29T16:19:04Z</td>\n",
       "      <td>2016-04-29T00:00:00Z</td>\n",
       "      <td>62</td>\n",
       "      <td>MATA DA PRAIA</td>\n",
       "      <td>0</td>\n",
       "      <td>0</td>\n",
       "      <td>0</td>\n",
       "      <td>0</td>\n",
       "      <td>0</td>\n",
       "      <td>0</td>\n",
       "      <td>No</td>\n",
       "    </tr>\n",
       "    <tr>\n",
       "      <th>3</th>\n",
       "      <td>8.679512e+11</td>\n",
       "      <td>5642828</td>\n",
       "      <td>F</td>\n",
       "      <td>2016-04-29T17:29:31Z</td>\n",
       "      <td>2016-04-29T00:00:00Z</td>\n",
       "      <td>8</td>\n",
       "      <td>PONTAL DE CAMBURI</td>\n",
       "      <td>0</td>\n",
       "      <td>0</td>\n",
       "      <td>0</td>\n",
       "      <td>0</td>\n",
       "      <td>0</td>\n",
       "      <td>0</td>\n",
       "      <td>No</td>\n",
       "    </tr>\n",
       "    <tr>\n",
       "      <th>4</th>\n",
       "      <td>8.841186e+12</td>\n",
       "      <td>5642494</td>\n",
       "      <td>F</td>\n",
       "      <td>2016-04-29T16:07:23Z</td>\n",
       "      <td>2016-04-29T00:00:00Z</td>\n",
       "      <td>56</td>\n",
       "      <td>JARDIM DA PENHA</td>\n",
       "      <td>0</td>\n",
       "      <td>1</td>\n",
       "      <td>1</td>\n",
       "      <td>0</td>\n",
       "      <td>0</td>\n",
       "      <td>0</td>\n",
       "      <td>No</td>\n",
       "    </tr>\n",
       "  </tbody>\n",
       "</table>\n",
       "</div>\n",
       "      <button class=\"colab-df-convert\" onclick=\"convertToInteractive('df-1a86de34-dcba-46b0-93b7-2f43555c3680')\"\n",
       "              title=\"Convert this dataframe to an interactive table.\"\n",
       "              style=\"display:none;\">\n",
       "        \n",
       "  <svg xmlns=\"http://www.w3.org/2000/svg\" height=\"24px\"viewBox=\"0 0 24 24\"\n",
       "       width=\"24px\">\n",
       "    <path d=\"M0 0h24v24H0V0z\" fill=\"none\"/>\n",
       "    <path d=\"M18.56 5.44l.94 2.06.94-2.06 2.06-.94-2.06-.94-.94-2.06-.94 2.06-2.06.94zm-11 1L8.5 8.5l.94-2.06 2.06-.94-2.06-.94L8.5 2.5l-.94 2.06-2.06.94zm10 10l.94 2.06.94-2.06 2.06-.94-2.06-.94-.94-2.06-.94 2.06-2.06.94z\"/><path d=\"M17.41 7.96l-1.37-1.37c-.4-.4-.92-.59-1.43-.59-.52 0-1.04.2-1.43.59L10.3 9.45l-7.72 7.72c-.78.78-.78 2.05 0 2.83L4 21.41c.39.39.9.59 1.41.59.51 0 1.02-.2 1.41-.59l7.78-7.78 2.81-2.81c.8-.78.8-2.07 0-2.86zM5.41 20L4 18.59l7.72-7.72 1.47 1.35L5.41 20z\"/>\n",
       "  </svg>\n",
       "      </button>\n",
       "      \n",
       "  <style>\n",
       "    .colab-df-container {\n",
       "      display:flex;\n",
       "      flex-wrap:wrap;\n",
       "      gap: 12px;\n",
       "    }\n",
       "\n",
       "    .colab-df-convert {\n",
       "      background-color: #E8F0FE;\n",
       "      border: none;\n",
       "      border-radius: 50%;\n",
       "      cursor: pointer;\n",
       "      display: none;\n",
       "      fill: #1967D2;\n",
       "      height: 32px;\n",
       "      padding: 0 0 0 0;\n",
       "      width: 32px;\n",
       "    }\n",
       "\n",
       "    .colab-df-convert:hover {\n",
       "      background-color: #E2EBFA;\n",
       "      box-shadow: 0px 1px 2px rgba(60, 64, 67, 0.3), 0px 1px 3px 1px rgba(60, 64, 67, 0.15);\n",
       "      fill: #174EA6;\n",
       "    }\n",
       "\n",
       "    [theme=dark] .colab-df-convert {\n",
       "      background-color: #3B4455;\n",
       "      fill: #D2E3FC;\n",
       "    }\n",
       "\n",
       "    [theme=dark] .colab-df-convert:hover {\n",
       "      background-color: #434B5C;\n",
       "      box-shadow: 0px 1px 3px 1px rgba(0, 0, 0, 0.15);\n",
       "      filter: drop-shadow(0px 1px 2px rgba(0, 0, 0, 0.3));\n",
       "      fill: #FFFFFF;\n",
       "    }\n",
       "  </style>\n",
       "\n",
       "      <script>\n",
       "        const buttonEl =\n",
       "          document.querySelector('#df-1a86de34-dcba-46b0-93b7-2f43555c3680 button.colab-df-convert');\n",
       "        buttonEl.style.display =\n",
       "          google.colab.kernel.accessAllowed ? 'block' : 'none';\n",
       "\n",
       "        async function convertToInteractive(key) {\n",
       "          const element = document.querySelector('#df-1a86de34-dcba-46b0-93b7-2f43555c3680');\n",
       "          const dataTable =\n",
       "            await google.colab.kernel.invokeFunction('convertToInteractive',\n",
       "                                                     [key], {});\n",
       "          if (!dataTable) return;\n",
       "\n",
       "          const docLinkHtml = 'Like what you see? Visit the ' +\n",
       "            '<a target=\"_blank\" href=https://colab.research.google.com/notebooks/data_table.ipynb>data table notebook</a>'\n",
       "            + ' to learn more about interactive tables.';\n",
       "          element.innerHTML = '';\n",
       "          dataTable['output_type'] = 'display_data';\n",
       "          await google.colab.output.renderOutput(dataTable, element);\n",
       "          const docLink = document.createElement('div');\n",
       "          docLink.innerHTML = docLinkHtml;\n",
       "          element.appendChild(docLink);\n",
       "        }\n",
       "      </script>\n",
       "    </div>\n",
       "  </div>\n",
       "  "
      ],
      "text/plain": [
       "      PatientId  AppointmentID Gender          ScheduledDay  \\\n",
       "0  2.987250e+13        5642903      F  2016-04-29T18:38:08Z   \n",
       "1  5.589978e+14        5642503      M  2016-04-29T16:08:27Z   \n",
       "2  4.262962e+12        5642549      F  2016-04-29T16:19:04Z   \n",
       "3  8.679512e+11        5642828      F  2016-04-29T17:29:31Z   \n",
       "4  8.841186e+12        5642494      F  2016-04-29T16:07:23Z   \n",
       "\n",
       "         AppointmentDay  Age      Neighbourhood  Scholarship  Hipertension  \\\n",
       "0  2016-04-29T00:00:00Z   62    JARDIM DA PENHA            0             1   \n",
       "1  2016-04-29T00:00:00Z   56    JARDIM DA PENHA            0             0   \n",
       "2  2016-04-29T00:00:00Z   62      MATA DA PRAIA            0             0   \n",
       "3  2016-04-29T00:00:00Z    8  PONTAL DE CAMBURI            0             0   \n",
       "4  2016-04-29T00:00:00Z   56    JARDIM DA PENHA            0             1   \n",
       "\n",
       "   Diabetes  Alcoholism  Handcap  SMS_received No-show  \n",
       "0         0           0        0             0      No  \n",
       "1         0           0        0             0      No  \n",
       "2         0           0        0             0      No  \n",
       "3         0           0        0             0      No  \n",
       "4         1           0        0             0      No  "
      ]
     },
     "execution_count": 36,
     "metadata": {},
     "output_type": "execute_result"
    }
   ],
   "source": [
    "# Challenge 2\n",
    "# ---\n",
    "# A medical company would like to follow up with 50 patients who never showed up for appointments \n",
    "# but received an sms. Select a random sample from such patients given the medical dataset below \n",
    "# ---\n",
    "# Dataset url = http://bit.ly/MedicalAppointmentsDataset\n",
    "# ---\n",
    "#\n",
    "medical_df.head(5)"
   ]
  },
  {
   "cell_type": "code",
   "execution_count": null,
   "metadata": {
    "colab": {
     "base_uri": "https://localhost:8080/"
    },
    "id": "LUs_AgYe2EtO",
    "outputId": "dbf2b60c-1886-4925-b099-d38758184079"
   },
   "outputs": [
    {
     "data": {
      "text/plain": [
       "0         0\n",
       "1         0\n",
       "2         0\n",
       "3         0\n",
       "4         0\n",
       "         ..\n",
       "110522    1\n",
       "110523    1\n",
       "110524    1\n",
       "110525    1\n",
       "110526    1\n",
       "Name: SMS_received, Length: 110527, dtype: int64"
      ]
     },
     "execution_count": 42,
     "metadata": {},
     "output_type": "execute_result"
    }
   ],
   "source": [
    "medical_df['SMS_received']"
   ]
  },
  {
   "cell_type": "code",
   "execution_count": null,
   "metadata": {
    "id": "-vqmxZ5Gz9-M"
   },
   "outputs": [],
   "source": [
    "#grouping\n",
    "med_appointment = medical_df.groupby['SMS_received'].max"
   ]
  },
  {
   "cell_type": "code",
   "execution_count": null,
   "metadata": {
    "id": "wH6aig3A8oxo"
   },
   "outputs": [],
   "source": []
  }
 ],
 "metadata": {
  "colab": {
   "collapsed_sections": [
    "BeUYGvGhTsm1",
    "bNWFLKL-gRTO",
    "kV0dRO0nUJzL",
    "0gGIBBpggZT2",
    "DwOtPvA3UnHf",
    "LZgY26bsgfJv",
    "-22NquhoWF7l",
    "8QVs13BcYJpm"
   ],
   "name": "Python Programming: Simple Random Sampling",
   "provenance": []
  },
  "kernelspec": {
   "display_name": "Python 3 (ipykernel)",
   "language": "python",
   "name": "python3"
  },
  "language_info": {
   "codemirror_mode": {
    "name": "ipython",
    "version": 3
   },
   "file_extension": ".py",
   "mimetype": "text/x-python",
   "name": "python",
   "nbconvert_exporter": "python",
   "pygments_lexer": "ipython3",
   "version": "3.8.8"
  }
 },
 "nbformat": 4,
 "nbformat_minor": 1
}
